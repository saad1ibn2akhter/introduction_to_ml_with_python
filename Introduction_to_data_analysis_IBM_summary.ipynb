{
  "nbformat": 4,
  "nbformat_minor": 0,
  "metadata": {
    "colab": {
      "provenance": [],
      "authorship_tag": "ABX9TyMjnZuuS9wbwpT+rcAe/q5p",
      "include_colab_link": true
    },
    "kernelspec": {
      "name": "python3",
      "display_name": "Python 3"
    },
    "language_info": {
      "name": "python"
    }
  },
  "cells": [
    {
      "cell_type": "markdown",
      "metadata": {
        "id": "view-in-github",
        "colab_type": "text"
      },
      "source": [
        "<a href=\"https://colab.research.google.com/github/saad1ibn2akhter/introduction_to_ml_with_python/blob/main/Introduction_to_data_analysis_IBM_summary.ipynb\" target=\"_parent\"><img src=\"https://colab.research.google.com/assets/colab-badge.svg\" alt=\"Open In Colab\"/></a>"
      ]
    },
    {
      "cell_type": "markdown",
      "source": [
        "# 📊 Data Analysis — Basics\n",
        "\n",
        "## Table of Contents\n",
        "\n",
        "1. **DataFrame Operations** — Remove rows/columns, concatenate DataFrames  \n",
        "2. **Data Visualization** — `regplot`, `boxplot`, `distplot`, pivot plot  \n",
        "3. **Linear Regression** — Using scikit-learn  \n",
        "4. **Residual Plot** — `residplot`  \n",
        "5. **Polynomial Regression** — Non-linear fitting  \n",
        "6. **StandardScaler** — Data normalization  \n",
        "7. **Pipeline** — Combine preprocessing + model  \n",
        "8. **Model Evaluation** — \\( R^2 \\), Mean Squared Error  \n",
        "9. **Train/Test Split** — `train_test_split`  \n",
        "10. **Cross-Validation** — Score  \n",
        "11. **Cross-Validation Prediction**  \n",
        "12. **Ridge Regression** — L2 regularization  \n",
        "13. **Grid Search** — Hyperparameter tuning  \n",
        "14. **Practice Problems**  \n",
        "15. **Reference:** [Cheat Sheet (PDF)](https://cf-courses-data.s3.us.cloud-object-storage.appdomain.cloud/IBMDeveloperSkillsNetwork-DA0101EN-Coursera/labs/Python%20Cheat%20Sheet%20for%20Data%20Analysis.pdf)\n"
      ],
      "metadata": {
        "id": "IV1HRWHWw6ZW"
      }
    },
    {
      "cell_type": "code",
      "source": [
        "#libraries\n",
        "import numpy as np\n",
        "import pandas as pd\n",
        "from io import StringIO\n",
        "import seaborn as sns\n",
        "import matplotlib.pyplot as plt\n",
        "from scipy import stats\n",
        "\n",
        "from sklearn.linear_model import LinearRegression , Ridge\n",
        "from sklearn.pipeline import Pipeline\n",
        "from sklearn.preprocessing import StandardScaler , PolynomialFeatures\n",
        "from sklearn.metrics import mean_squared_error , r2_score\n",
        "from sklearn.model_selection import train_test_split , cross_val_score , cross_val_predict , GridSearchCV\n",
        "\n",
        "path = 'used_cars_dataset.csv'\n",
        "df = pd.read_csv(path )\n"
      ],
      "metadata": {
        "id": "q8GSI8VDxWoF",
        "collapsed": true
      },
      "execution_count": 96,
      "outputs": []
    },
    {
      "cell_type": "code",
      "source": [
        "#Data frame operations\n",
        "print(df.info())\n",
        "print(df.columns)"
      ],
      "metadata": {
        "colab": {
          "base_uri": "https://localhost:8080/"
        },
        "collapsed": true,
        "id": "zft3uf8209A9",
        "outputId": "0a184d10-4aae-419f-b8f3-5b399f0dedf1"
      },
      "execution_count": 14,
      "outputs": [
        {
          "output_type": "stream",
          "name": "stdout",
          "text": [
            "<class 'pandas.core.frame.DataFrame'>\n",
            "RangeIndex: 201 entries, 0 to 200\n",
            "Data columns (total 29 columns):\n",
            " #   Column             Non-Null Count  Dtype  \n",
            "---  ------             --------------  -----  \n",
            " 0   symboling          201 non-null    int64  \n",
            " 1   normalized-losses  201 non-null    int64  \n",
            " 2   make               201 non-null    object \n",
            " 3   aspiration         201 non-null    object \n",
            " 4   num-of-doors       201 non-null    object \n",
            " 5   body-style         201 non-null    object \n",
            " 6   drive-wheels       201 non-null    object \n",
            " 7   engine-location    201 non-null    object \n",
            " 8   wheel-base         201 non-null    float64\n",
            " 9   length             201 non-null    float64\n",
            " 10  width              201 non-null    float64\n",
            " 11  height             201 non-null    float64\n",
            " 12  curb-weight        201 non-null    int64  \n",
            " 13  engine-type        201 non-null    object \n",
            " 14  num-of-cylinders   201 non-null    object \n",
            " 15  engine-size        201 non-null    int64  \n",
            " 16  fuel-system        201 non-null    object \n",
            " 17  bore               201 non-null    float64\n",
            " 18  stroke             197 non-null    float64\n",
            " 19  compression-ratio  201 non-null    float64\n",
            " 20  horsepower         201 non-null    float64\n",
            " 21  peak-rpm           201 non-null    float64\n",
            " 22  city-mpg           201 non-null    int64  \n",
            " 23  highway-mpg        201 non-null    int64  \n",
            " 24  price              201 non-null    float64\n",
            " 25  city-L/100km       201 non-null    float64\n",
            " 26  horsepower-binned  200 non-null    object \n",
            " 27  diesel             201 non-null    int64  \n",
            " 28  gas                201 non-null    int64  \n",
            "dtypes: float64(11), int64(8), object(10)\n",
            "memory usage: 45.7+ KB\n",
            "None\n",
            "Index(['symboling', 'normalized-losses', 'make', 'aspiration', 'num-of-doors',\n",
            "       'body-style', 'drive-wheels', 'engine-location', 'wheel-base', 'length',\n",
            "       'width', 'height', 'curb-weight', 'engine-type', 'num-of-cylinders',\n",
            "       'engine-size', 'fuel-system', 'bore', 'stroke', 'compression-ratio',\n",
            "       'horsepower', 'peak-rpm', 'city-mpg', 'highway-mpg', 'price',\n",
            "       'city-L/100km', 'horsepower-binned', 'diesel', 'gas'],\n",
            "      dtype='object')\n"
          ]
        }
      ]
    },
    {
      "cell_type": "code",
      "source": [
        "pearson_coef , p_value  = stats.pearsonr(df['horsepower'],df['price'] )\n",
        "print(\"pearson coefficient : \",pearson_coef , \"p_value : \",p_value)"
      ],
      "metadata": {
        "colab": {
          "base_uri": "https://localhost:8080/"
        },
        "id": "Z7OenZKRDp30",
        "outputId": "98e19a2b-746c-4b8b-cdc1-609017f3ea85"
      },
      "execution_count": 18,
      "outputs": [
        {
          "output_type": "stream",
          "name": "stdout",
          "text": [
            "pearson coefficient :  0.8095745670036562 p_value :  6.369057428259571e-48\n"
          ]
        }
      ]
    },
    {
      "cell_type": "code",
      "source": [
        "#Linear Regression\n",
        "lm = LinearRegression()\n",
        "X = df[['horsepower','highway-mpg','engine-size']]\n",
        "Y = df[['price']]\n",
        "lm.fit(X,Y)\n",
        "yhat = lm.predict(X)\n",
        "intercept = lm.intercept_\n",
        "coef = lm.coef_\n",
        "print(f\"coef : {coef} , intercept : {intercept}\")\n",
        "print(\"Linear Regression prediction : \" , yhat)\n"
      ],
      "metadata": {
        "colab": {
          "base_uri": "https://localhost:8080/"
        },
        "collapsed": true,
        "id": "ICGOsMuCZD7i",
        "outputId": "19e11019-2800-48aa-83a1-a7a6dd26bd8e"
      },
      "execution_count": 23,
      "outputs": [
        {
          "output_type": "stream",
          "name": "stdout",
          "text": [
            "coef : [[  41.17449204 -139.42625264  120.85329253]] , intercept : [-2105.36456095]\n",
            "Linear Regression prediction :  [[14411.42326337]\n",
            " [14411.42326337]\n",
            " [18980.12510938]\n",
            " [11084.65493392]\n",
            " [15998.37224991]\n",
            " [15374.2210318 ]\n",
            " [15374.2210318 ]\n",
            " [15374.2210318 ]\n",
            " [16702.32059348]\n",
            " [11062.05340199]\n",
            " [11062.05340199]\n",
            " [18792.75387723]\n",
            " [18792.75387723]\n",
            " [19211.03263514]\n",
            " [27579.35357138]\n",
            " [27579.35357138]\n",
            " [27858.20607665]\n",
            " [ -146.5294884 ]\n",
            " [ 5658.31734628]\n",
            " [ 5658.31734628]\n",
            " [ 5854.82086747]\n",
            " [ 6273.09962539]\n",
            " [ 9755.26871606]\n",
            " [ 6273.09962539]\n",
            " [ 6273.09962539]\n",
            " [ 6273.09962539]\n",
            " [ 9755.26871606]\n",
            " [12079.30484831]\n",
            " [19371.82035644]\n",
            " [ 3872.24124787]\n",
            " [ 6844.20214676]\n",
            " [ 4056.61246067]\n",
            " [ 7401.90715731]\n",
            " [ 7401.90715731]\n",
            " [ 7401.90715731]\n",
            " [ 7401.90715731]\n",
            " [10128.43759592]\n",
            " [10128.43759592]\n",
            " [10128.43759592]\n",
            " [10128.43759592]\n",
            " [11443.18623969]\n",
            " [10983.73298974]\n",
            " [10477.5999627 ]\n",
            " [11938.52020742]\n",
            " [33672.39671116]\n",
            " [33672.39671116]\n",
            " [45710.27942398]\n",
            " [ 7369.93668638]\n",
            " [ 6393.95291792]\n",
            " [ 6393.95291792]\n",
            " [ 6393.95291792]\n",
            " [ 6393.95291792]\n",
            " [ 7306.18580157]\n",
            " [ 7306.18580157]\n",
            " [ 7306.18580157]\n",
            " [ 9914.6514562 ]\n",
            " [11635.75437488]\n",
            " [11635.75437488]\n",
            " [11635.75437488]\n",
            " [11635.75437488]\n",
            " [ 9418.00200773]\n",
            " [11635.75437488]\n",
            " [15990.52661704]\n",
            " [11615.91621234]\n",
            " [21589.59417734]\n",
            " [21589.59417734]\n",
            " [21589.59417734]\n",
            " [21589.59417734]\n",
            " [30046.67961021]\n",
            " [30046.67961021]\n",
            " [40462.73603202]\n",
            " [39979.32286189]\n",
            " [18673.40243707]\n",
            " [ 6096.52745254]\n",
            " [ 6514.80621045]\n",
            " [ 6514.80621045]\n",
            " [ 9755.26871606]\n",
            " [11781.95111499]\n",
            " [11800.45234303]\n",
            " [19371.82035644]\n",
            " [19371.82035644]\n",
            " [19371.82035644]\n",
            " [11800.45234303]\n",
            " [11800.45234303]\n",
            " [11781.95111499]\n",
            " [11781.95111499]\n",
            " [ 7299.67341779]\n",
            " [ 5635.80900016]\n",
            " [ 7299.67341779]\n",
            " [ 7299.67341779]\n",
            " [ 7299.67341779]\n",
            " [ 7299.67341779]\n",
            " [ 7299.67341779]\n",
            " [ 7299.67341779]\n",
            " [ 7299.67341779]\n",
            " [ 7299.67341779]\n",
            " [11650.46368104]\n",
            " [11650.46368104]\n",
            " [22960.2266193 ]\n",
            " [22960.2266193 ]\n",
            " [22541.94786139]\n",
            " [22871.3437977 ]\n",
            " [24797.17598452]\n",
            " [22871.3437977 ]\n",
            " [13044.72620741]\n",
            " [15574.84631065]\n",
            " [13044.72620741]\n",
            " [16690.25633175]\n",
            " [12962.37722334]\n",
            " [15574.84631065]\n",
            " [12962.37722334]\n",
            " [16690.25633175]\n",
            " [13044.72620741]\n",
            " [15574.84631065]\n",
            " [16589.52444461]\n",
            " [ 5854.82086747]\n",
            " [ 9755.26871606]\n",
            " [ 6273.09962539]\n",
            " [ 6273.09962539]\n",
            " [ 7239.92596565]\n",
            " [12079.30484831]\n",
            " [19371.82035644]\n",
            " [18266.92615179]\n",
            " [26377.63772644]\n",
            " [26377.63772644]\n",
            " [26377.63772644]\n",
            " [13817.75055413]\n",
            " [13817.75055413]\n",
            " [13143.1428859 ]\n",
            " [13143.1428859 ]\n",
            " [13143.1428859 ]\n",
            " [13143.1428859 ]\n",
            " [15480.7199931 ]\n",
            " [15480.7199931 ]\n",
            " [ 7439.09967043]\n",
            " [ 9630.31511963]\n",
            " [ 9630.31511963]\n",
            " [ 9164.32803215]\n",
            " [ 9722.0330427 ]\n",
            " [10355.5531998 ]\n",
            " [10837.4430638 ]\n",
            " [11473.79832237]\n",
            " [ 9861.45929534]\n",
            " [10494.97945244]\n",
            " [10279.73805325]\n",
            " [12310.3558382 ]\n",
            " [ 6128.33300558]\n",
            " [ 6267.75925822]\n",
            " [ 6267.75925822]\n",
            " [ 6407.18551086]\n",
            " [ 7104.31677405]\n",
            " [ 7104.31677405]\n",
            " [ 7461.70120236]\n",
            " [ 7461.70120236]\n",
            " [ 8474.92407686]\n",
            " [ 6941.23529784]\n",
            " [ 6067.43867599]\n",
            " [ 7879.97996028]\n",
            " [ 7879.97996028]\n",
            " [ 7879.97996028]\n",
            " [ 7879.97996028]\n",
            " [10306.43988908]\n",
            " [10306.43988908]\n",
            " [16132.66964617]\n",
            " [16132.66964617]\n",
            " [16132.66964617]\n",
            " [16132.66964617]\n",
            " [16132.66964617]\n",
            " [16132.66964617]\n",
            " [11686.29780591]\n",
            " [ 9593.16919942]\n",
            " [11965.15031119]\n",
            " [11965.15031119]\n",
            " [11965.15031119]\n",
            " [21843.41161705]\n",
            " [21843.41161705]\n",
            " [21637.53915686]\n",
            " [20429.00623153]\n",
            " [ 5344.8707794 ]\n",
            " [ 9826.98355871]\n",
            " [ 5344.8707794 ]\n",
            " [ 9826.98355871]\n",
            " [ 9826.98355871]\n",
            " [ 6561.36766257]\n",
            " [10723.45344457]\n",
            " [10729.9872821 ]\n",
            " [10729.9872821 ]\n",
            " [15513.64728444]\n",
            " [ 7119.07267312]\n",
            " [10368.78579274]\n",
            " [15724.90670471]\n",
            " [15724.90670471]\n",
            " [15724.90670471]\n",
            " [15724.90670471]\n",
            " [17208.45362052]\n",
            " [17208.45362052]\n",
            " [15724.90670471]\n",
            " [18037.21209639]\n",
            " [21112.83316971]\n",
            " [16018.35019117]\n",
            " [16143.18546262]]\n"
          ]
        }
      ]
    },
    {
      "cell_type": "code",
      "source": [
        "sns.regplot(x=df[['horsepower']],y=df[['price']] )\n",
        "plt.ylim(0,)\n",
        "sns.distplot(x=df['horsepower'],hist=False )\n"
      ],
      "metadata": {
        "colab": {
          "base_uri": "https://localhost:8080/",
          "height": 667
        },
        "collapsed": true,
        "id": "k_p_vcr9aGVj",
        "outputId": "3c3226ae-9c30-4a35-ab4b-cdf6220d76f7"
      },
      "execution_count": 37,
      "outputs": [
        {
          "output_type": "stream",
          "name": "stderr",
          "text": [
            "/tmp/ipython-input-2118499657.py:3: UserWarning: \n",
            "\n",
            "`distplot` is a deprecated function and will be removed in seaborn v0.14.0.\n",
            "\n",
            "Please adapt your code to use either `displot` (a figure-level function with\n",
            "similar flexibility) or `kdeplot` (an axes-level function for kernel density plots).\n",
            "\n",
            "For a guide to updating your code to use the new functions, please see\n",
            "https://gist.github.com/mwaskom/de44147ed2974457ad6372750bbe5751\n",
            "\n",
            "  sns.distplot(x=df['horsepower'],hist=False )\n"
          ]
        },
        {
          "output_type": "execute_result",
          "data": {
            "text/plain": [
              "<Axes: xlabel='horsepower', ylabel='price'>"
            ]
          },
          "metadata": {},
          "execution_count": 37
        },
        {
          "output_type": "display_data",
          "data": {
            "text/plain": [
              "<Figure size 640x480 with 1 Axes>"
            ],
            "image/png": "[encoded data removed]"
          },
          "metadata": {}
        }
      ]
    },
    {
      "cell_type": "code",
      "source": [
        "#Non-linear fittings -> Polynomial Regression\n",
        "#in this case linear regression model underfits/overfits\n",
        "Input = (\n",
        "    ('scale' ,StandardScaler()),\n",
        "    ('polynomial' , PolynomialFeatures(degree=2, include_bias=False)) ,\n",
        "    ('model',LinearRegression())\n",
        "    )\n",
        "pipe = Pipeline(Input)\n",
        "pipe.fit(X,Y)\n",
        "yhat_pipe = pipe.predict(X)\n",
        "print(yhat_pipe)\n"
      ],
      "metadata": {
        "colab": {
          "base_uri": "https://localhost:8080/"
        },
        "collapsed": true,
        "id": "9AirA_50bWRb",
        "outputId": "22e65a44-1925-4762-9ea4-b53d37d82374"
      },
      "execution_count": 67,
      "outputs": [
        {
          "output_type": "stream",
          "name": "stdout",
          "text": [
            "[[13659.91467389]\n",
            " [13659.91467389]\n",
            " [18260.30982358]\n",
            " [10060.44406848]\n",
            " [17137.52250812]\n",
            " [15505.85383005]\n",
            " [15505.85383005]\n",
            " [15505.85383005]\n",
            " [17979.28484721]\n",
            " [10255.75030099]\n",
            " [10255.75030099]\n",
            " [17627.97474151]\n",
            " [17627.97474151]\n",
            " [19074.75164047]\n",
            " [25443.83325906]\n",
            " [25443.83325906]\n",
            " [26190.09688587]\n",
            " [ 4617.04774061]\n",
            " [ 5822.11109801]\n",
            " [ 5822.11109801]\n",
            " [ 5558.33516438]\n",
            " [ 5677.68522953]\n",
            " [ 9010.9961491 ]\n",
            " [ 5677.68522953]\n",
            " [ 5677.68522953]\n",
            " [ 5677.68522953]\n",
            " [ 9010.9961491 ]\n",
            " [12098.37413834]\n",
            " [18297.51045618]\n",
            " [ 9651.59583406]\n",
            " [ 6007.38116284]\n",
            " [ 3997.04715404]\n",
            " [ 6644.62206288]\n",
            " [ 6644.62206288]\n",
            " [ 6644.62206288]\n",
            " [ 6644.62206288]\n",
            " [ 9240.97331713]\n",
            " [ 9240.97331713]\n",
            " [ 9240.97331713]\n",
            " [ 9240.97331713]\n",
            " [10864.91944572]\n",
            " [ 9827.9972122 ]\n",
            " [11575.35309723]\n",
            " [11954.54720802]\n",
            " [33599.43209767]\n",
            " [33599.43209767]\n",
            " [41220.84540041]\n",
            " [ 7955.02091159]\n",
            " [ 5819.91313857]\n",
            " [ 5819.91313857]\n",
            " [ 5819.91313857]\n",
            " [ 5819.91313857]\n",
            " [ 9722.92746285]\n",
            " [ 9722.92746285]\n",
            " [ 9722.92746285]\n",
            " [14646.11449893]\n",
            " [11535.78850923]\n",
            " [11535.78850923]\n",
            " [11535.78850923]\n",
            " [11535.78850923]\n",
            " [10898.09593795]\n",
            " [11535.78850923]\n",
            " [14834.26608802]\n",
            " [12858.5759313 ]\n",
            " [22180.31611801]\n",
            " [22180.31611801]\n",
            " [22180.31611801]\n",
            " [22180.31611801]\n",
            " [32715.33428237]\n",
            " [32715.33428237]\n",
            " [45581.09219198]\n",
            " [44565.42108144]\n",
            " [22157.74720467]\n",
            " [ 5826.21711229]\n",
            " [ 5963.82116572]\n",
            " [ 5963.82116572]\n",
            " [ 9010.9961491 ]\n",
            " [11014.1046848 ]\n",
            " [11283.1061549 ]\n",
            " [18297.51045618]\n",
            " [18297.51045618]\n",
            " [18297.51045618]\n",
            " [11283.1061549 ]\n",
            " [11283.1061549 ]\n",
            " [11014.1046848 ]\n",
            " [11014.1046848 ]\n",
            " [ 6841.02166802]\n",
            " [ 9134.59461109]\n",
            " [ 6841.02166802]\n",
            " [ 6841.02166802]\n",
            " [ 6841.02166802]\n",
            " [ 6841.02166802]\n",
            " [ 6841.02166802]\n",
            " [ 6841.02166802]\n",
            " [ 6841.02166802]\n",
            " [ 6841.02166802]\n",
            " [10289.97643886]\n",
            " [10289.97643886]\n",
            " [21820.82458779]\n",
            " [21820.82458779]\n",
            " [20561.75041506]\n",
            " [20915.21991953]\n",
            " [27155.13218926]\n",
            " [20915.21991953]\n",
            " [14565.70943435]\n",
            " [15606.07846142]\n",
            " [14565.70943435]\n",
            " [19945.68287025]\n",
            " [14726.98377886]\n",
            " [15606.07846142]\n",
            " [14726.98377886]\n",
            " [19945.68287025]\n",
            " [14565.70943435]\n",
            " [15606.07846142]\n",
            " [16535.63673345]\n",
            " [ 5558.33516438]\n",
            " [ 9010.9961491 ]\n",
            " [ 5677.68522953]\n",
            " [ 5677.68522953]\n",
            " [ 6862.551809  ]\n",
            " [12098.37413834]\n",
            " [18297.51045618]\n",
            " [16868.3073489 ]\n",
            " [28625.27462656]\n",
            " [28625.27462656]\n",
            " [28625.27462656]\n",
            " [12528.26508661]\n",
            " [12528.26508661]\n",
            " [12201.37799806]\n",
            " [12201.37799806]\n",
            " [12201.37799806]\n",
            " [12201.37799806]\n",
            " [18946.94372252]\n",
            " [18946.94372252]\n",
            " [ 7050.65384486]\n",
            " [10458.37231347]\n",
            " [10458.37231347]\n",
            " [ 8233.15124358]\n",
            " [ 9064.58135091]\n",
            " [ 9218.20223214]\n",
            " [13244.46277882]\n",
            " [10687.22523221]\n",
            " [ 9403.53373259]\n",
            " [ 9504.45667138]\n",
            " [10735.01852932]\n",
            " [13241.54893433]\n",
            " [ 5978.32069643]\n",
            " [ 6129.19459838]\n",
            " [ 6129.19459838]\n",
            " [ 6332.50644228]\n",
            " [ 8135.6347909 ]\n",
            " [ 8135.6347909 ]\n",
            " [ 6963.80028307]\n",
            " [ 6963.80028307]\n",
            " [10606.53295724]\n",
            " [ 9496.74314248]\n",
            " [ 7808.75524474]\n",
            " [ 7732.85366245]\n",
            " [ 7732.85366245]\n",
            " [ 7732.85366245]\n",
            " [ 7732.85366245]\n",
            " [10053.78110729]\n",
            " [10053.78110729]\n",
            " [14551.88202327]\n",
            " [14551.88202327]\n",
            " [14551.88202327]\n",
            " [14551.88202327]\n",
            " [14551.88202327]\n",
            " [14551.88202327]\n",
            " [10570.44329087]\n",
            " [ 9920.01524265]\n",
            " [11105.86891694]\n",
            " [11105.86891694]\n",
            " [11105.86891694]\n",
            " [20528.24342083]\n",
            " [20528.24342083]\n",
            " [20155.41989711]\n",
            " [19445.88084221]\n",
            " [ 7184.28881069]\n",
            " [ 8858.78265227]\n",
            " [ 7184.28881069]\n",
            " [ 8858.78265227]\n",
            " [ 8858.78265227]\n",
            " [ 6569.12025822]\n",
            " [ 9483.354842  ]\n",
            " [10465.4194379 ]\n",
            " [10465.4194379 ]\n",
            " [16104.17796232]\n",
            " [ 6708.56307317]\n",
            " [ 9703.8728807 ]\n",
            " [14607.19769783]\n",
            " [14607.19769783]\n",
            " [14607.19769783]\n",
            " [14607.19769783]\n",
            " [19854.74487684]\n",
            " [19854.74487684]\n",
            " [14607.19769783]\n",
            " [18972.44523289]\n",
            " [20750.92994049]\n",
            " [16034.44964702]\n",
            " [16028.04152928]]\n"
          ]
        }
      ]
    },
    {
      "cell_type": "code",
      "source": [
        "#R^2 value - linear and non-linear circumstances\n",
        "lm.fit(X,Y)\n",
        "R2_score  = lm.score(X,Y)\n",
        "print(\"R^2 (linear) : \", R2_score )\n",
        "\n",
        "mse = mean_squared_error(yhat_pipe, Y)\n",
        "print(\"Mean Squared Error : \",mse)"
      ],
      "metadata": {
        "colab": {
          "base_uri": "https://localhost:8080/"
        },
        "id": "aH_Cp1pYkN-w",
        "outputId": "c9d5af2f-2f34-4e08-d47e-c342941bfbe0"
      },
      "execution_count": 42,
      "outputs": [
        {
          "output_type": "stream",
          "name": "stdout",
          "text": [
            "R^2 (linear) :  0.7921420253198568\n",
            "Mean Square Error :  10819563.380784573\n"
          ]
        }
      ]
    },
    {
      "cell_type": "code",
      "source": [
        "# x_1d = X.squeeze()\n",
        "# f = np.polyfit(x_1d, Y, 3)\n",
        "# p = np.poly1d(f)\n",
        "# R2_score = r2_score(Y, p(x_1d))\n",
        "# print(\"R2:\", R2_score)"
      ],
      "metadata": {
        "id": "zbUpVrw4k_vF"
      },
      "execution_count": 48,
      "outputs": []
    },
    {
      "cell_type": "code",
      "source": [
        "#splitting data for testing and training\n",
        "\n",
        "x_train ,x_test , y_train , y_test = train_test_split(X,Y,test_size = 0.2,random_state=1)\n"
      ],
      "metadata": {
        "id": "1PEJItfImIia"
      },
      "execution_count": 49,
      "outputs": []
    },
    {
      "cell_type": "code",
      "source": [
        "#Cross validation score and prediction\n",
        "\n",
        "lr2 = LinearRegression()\n",
        "r_cross = cross_val_score(lr2,X,Y , cv=2)#in this case 2nd order gives the optimal 71.2%\n",
        "mean_outcome = r_cross.mean()\n",
        "print(f\"outcome : { mean_outcome*100} %\")\n",
        "yhat3 = cross_val_predict(lr2,X,Y,cv=2)\n",
        "print(\"MSE here is -----> \" , mean_squared_error(Y,yhat3))\n",
        "\n",
        "# print(yhat3)\n"
      ],
      "metadata": {
        "colab": {
          "base_uri": "https://localhost:8080/"
        },
        "id": "B2UZmajFrNry",
        "outputId": "6ff08b79-d580-4c42-a3fd-fb6f834880d3"
      },
      "execution_count": 65,
      "outputs": [
        {
          "output_type": "stream",
          "name": "stdout",
          "text": [
            "outcome : 71.18772759290968 %\n",
            "MSE here is ----->  16087730.107130464\n"
          ]
        }
      ]
    },
    {
      "cell_type": "code",
      "source": [
        "#Ridge Regression\n",
        "Input = (('scalar' , StandardScaler()),\n",
        "    ('ridge',Ridge(alpha=0.1)))\n",
        "\n",
        "ridge_pipeline = Pipeline(Input)\n",
        "ridge_pipeline.fit(x_train,y_train)\n",
        "yhat_ridge = ridge_pipeline.predict(x_test)\n",
        "\n",
        "print(\"R^2 : \" , r2_score(y_test,yhat_ridge))\n",
        "print(\"MSE : \", mean_squared_error(y_test,yhat_ridge ))\n"
      ],
      "metadata": {
        "colab": {
          "base_uri": "https://localhost:8080/"
        },
        "id": "v08vRmSirj6r",
        "outputId": "68d789b8-f7cf-4bb1-9ed6-3e9d2e3d65a4"
      },
      "execution_count": 94,
      "outputs": [
        {
          "output_type": "stream",
          "name": "stdout",
          "text": [
            "R^2 :  0.6904497649895551\n",
            "MSE :  16404862.609737469\n"
          ]
        }
      ]
    },
    {
      "cell_type": "code",
      "source": [
        "#Grid Search\n",
        "ridge = Ridge()\n",
        "parameters = {'alpha': [0.001, 0.1, 1, 10, 100]}\n",
        "\n",
        "grid = GridSearchCV(ridge , parameters  , cv=4)\n",
        "grid.fit(x_train , y_train)\n",
        "\n",
        "print(\"best r^2 : \", grid.best_score_)\n"
      ],
      "metadata": {
        "colab": {
          "base_uri": "https://localhost:8080/"
        },
        "id": "izqtYB--Ajr9",
        "outputId": "e5fb6a17-abcf-473e-fffe-82be679b3ba0"
      },
      "execution_count": 99,
      "outputs": [
        {
          "output_type": "stream",
          "name": "stdout",
          "text": [
            "best r^2 :  0.7968022356945991\n"
          ]
        }
      ]
    },
    {
      "cell_type": "code",
      "source": [],
      "metadata": {
        "id": "HVdJX_5gCh6T"
      },
      "execution_count": null,
      "outputs": []
    }
  ]
}